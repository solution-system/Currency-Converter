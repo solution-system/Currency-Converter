{
  "nbformat": 4,
  "nbformat_minor": 0,
  "metadata": {
    "colab": {
      "provenance": [],
      "authorship_tag": "ABX9TyNyykKBr6PNVDwEaf/65/Bj",
      "include_colab_link": true
    },
    "kernelspec": {
      "name": "python3",
      "display_name": "Python 3"
    },
    "language_info": {
      "name": "python"
    }
  },
  "cells": [
    {
      "cell_type": "markdown",
      "metadata": {
        "id": "view-in-github",
        "colab_type": "text"
      },
      "source": [
        "<a href=\"https://colab.research.google.com/github/solution-system/Currency-Converter/blob/master/stock-price-prediction-with-lstm.ipynb\" target=\"_parent\"><img src=\"https://colab.research.google.com/assets/colab-badge.svg\" alt=\"Open In Colab\"/></a>"
      ]
    },
    {
      "cell_type": "code",
      "execution_count": 3,
      "metadata": {
        "id": "yX5rFuPljhk7"
      },
      "outputs": [],
      "source": [
        "import pandas as pd\n",
        "import yfinance as yf\n",
        "import datetime\n",
        "from datetime import date, timedelta\n",
        "today = date.today()"
      ]
    },
    {
      "cell_type": "code",
      "source": [
        "d1 = today.strftime()"
      ],
      "metadata": {
        "id": "yAKF6vA1jqR7"
      },
      "execution_count": null,
      "outputs": []
    }
  ]
}